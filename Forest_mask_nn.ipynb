{
 "cells": [
  {
   "cell_type": "markdown",
   "id": "980778f9",
   "metadata": {},
   "source": [
    "__Что щас не сделано__\n",
    "1. Не считаются географические координаты, не хранятся в выходном слое\n",
    "2. Не фильтруются nan (?)\n",
    "3. Нормализации нет, аугментации, регуляризации какой\n",
    "4. Не прописана оценка качества на тестовой выборке\n",
    "5. Да и вообще модель не училась. И я пока не в курсе, рабочая ли она"
   ]
  },
  {
   "cell_type": "markdown",
   "id": "938e441b",
   "metadata": {},
   "source": [
    "__Вопросики__\n",
    "\n",
    "1. Если нам нарезать на патчи 5х5 весь тренировочный участок, получается 20+ млн патчей, память забивается за раз. Если генерировать при создании датасета патчи рандомно и фиксировать их количество, то, фиксируя random seed, мы же будем получать одни и те же патчи при запуске? И что если мы хотим в каждую эпоху класть новую случайную порцию патчей? Если мы набранные патчи генерируем до даталоадера, то на цикле обучения новые объекты уже брать негде..."
   ]
  },
  {
   "cell_type": "markdown",
   "id": "b1742f59",
   "metadata": {},
   "source": [
    "Импорт необходимых библиотек"
   ]
  },
  {
   "cell_type": "code",
   "execution_count": 1,
   "id": "f796a51e",
   "metadata": {},
   "outputs": [],
   "source": [
    "import numpy as np\n",
    "from osgeo import gdal\n",
    "from tqdm import tqdm\n",
    "from tqdm import trange\n",
    "import random\n",
    "import matplotlib.pyplot as plt\n",
    "\n",
    "from sklearn.metrics import roc_auc_score\n",
    "from sklearn.metrics import auc\n",
    "from sklearn.metrics import precision_recall_curve\n",
    "from sklearn.metrics import plot_roc_curve\n",
    "from sklearn.metrics import PrecisionRecallDisplay\n",
    "\n",
    "import torch\n",
    "from torch import nn\n",
    "from torch.utils.data import Dataset\n",
    "from torch.utils.data import DataLoader\n",
    "from torchvision import transforms\n",
    "\n",
    "torch.manual_seed(42)\n",
    "random.seed(42)\n",
    "np.random.seed(42)\n",
    "\n",
    "device = torch.device(\"cuda\" if torch.cuda.is_available() else \"cpu\")"
   ]
  },
  {
   "cell_type": "code",
   "execution_count": 2,
   "id": "c8a72f8a",
   "metadata": {},
   "outputs": [
    {
     "data": {
      "text/plain": [
       "True"
      ]
     },
     "execution_count": 2,
     "metadata": {},
     "output_type": "execute_result"
    }
   ],
   "source": [
    "torch.cuda.is_available()"
   ]
  },
  {
   "cell_type": "code",
   "execution_count": null,
   "id": "6c13637e",
   "metadata": {},
   "outputs": [],
   "source": [
    "# про вычисление координат пиксела\n",
    "# https://stackoverflow.com/questions/50191648/gis-geotiff-gdal-python-how-to-get-coordinates-from-pixel\n",
    "# xoffset, px_w, rot1, yoffset, px_h, rot2 = ds.GetGeoTransform()\n",
    "\n",
    "# # supposing x and y are your pixel coordinate this \n",
    "# # is how to get the coordinate in space.\n",
    "# posX = px_w * x + rot1 * y + xoffset\n",
    "# posY = rot2 * x + px_h * y + yoffset\n",
    "\n",
    "# # shift to the center of the pixel\n",
    "# posX += px_w / 2.0\n",
    "# posY += px_h / 2.0"
   ]
  },
  {
   "cell_type": "markdown",
   "id": "2f4a7d39",
   "metadata": {},
   "source": [
    "Нам понадобятся для работы некоторые функции, соберем их тут, чтобы потом не мешались\n",
    "\n",
    "Прежде всего, нам нужен класс для подготовки датасета. Он должен\n",
    "1. Нарезать на патчи (заданного размера)\n",
    "2. Определять класс центрального пиксела патча (на основе соответственного патча маски)\n",
    "3. Вычислять координаты этого пиксела и складывать их куда-то, чтобы потом можно было восстановить изображение\n",
    "4. Кстати, раз мы режем на патчи после отделения тестового и валидационного куска, надо также подавать значения порогов отделения, чтобы восстанавливать координаты?"
   ]
  },
  {
   "cell_type": "code",
   "execution_count": 16,
   "id": "fe021f81",
   "metadata": {},
   "outputs": [],
   "source": [
    "class Patcher(Dataset):\n",
    "    def __init__(self, image, mask, transform, patch_size, size=10000, bound=0, seed=42):\n",
    "        super().__init__()\n",
    "        \n",
    "        \n",
    "        self.image = image\n",
    "        self.mask = mask\n",
    "        self.transform = transform\n",
    "        self.patch_size = patch_size\n",
    "        self.size = size\n",
    "        self.rng = np.random.RandomState(seed)\n",
    "        self.im_h, self.im_w = image.shape[0], image.shape[1]             \n",
    "\n",
    "    def __getitem__(self, indx):\n",
    "        central_x = self.rng.randint(0, self.im_w - (self.patch_size - 1))\n",
    "        central_y = self.rng.randint(0, self.im_h - (self.patch_size - 1))\n",
    "        half_patch = self.patch_size // 2\n",
    "        if (self.image[(central_y - half_patch):(central_y + half_patch + 1), \n",
    "                 (central_x - half_patch):(central_x + half_patch + 1)] != 0).all():\n",
    "            patch = self.image[(central_y - half_patch):(central_y + half_patch + 1), \n",
    "                          (central_x - half_patch):(central_x + half_patch + 1)]\n",
    "            label = self.mask[central_y][central_x]\n",
    "            coords = (0, 0) # geographical, now dummy\n",
    "            return self.transform(patch), torch.tensor(label).float(), torch.tensor(coords) # зачем флоат лейблам?\n",
    "\n",
    "    def __len__(self):\n",
    "        return self.size # 5х5 патчей получается 21,5 млн штук, хотелось бы ограничивать"
   ]
  },
  {
   "cell_type": "code",
   "execution_count": 3,
   "id": "a5d512ac",
   "metadata": {},
   "outputs": [],
   "source": [
    "# функция для валидации\n",
    "def validate(model,\n",
    "             criterion,\n",
    "             val_loader):\n",
    "    cumloss = 0\n",
    "    loss_history = []\n",
    "    with torch.no_grad():\n",
    "        for batch in val_loader:\n",
    "            x_train, y_train, coords = batch\n",
    "            x_train, y_train = x_train.to(device), y_train.to(device)\n",
    "            y_pred = model(x_train) # get predictions\n",
    "            loss = criterion(y_pred, y_train) # compute loss\n",
    "            loss_history.append(loss.cpu().detach().numpy()) # write loss to log\n",
    "            cumloss += loss\n",
    "    return cumloss / len(val_loader), loss_history # mean loss and history"
   ]
  },
  {
   "cell_type": "code",
   "execution_count": 7,
   "id": "dac8d69b",
   "metadata": {},
   "outputs": [],
   "source": [
    "# функция для обучения\n",
    "def train(model, train_data, test_data, criterion, optimizer, num_epochs = 10):\n",
    "    loss_hist = []\n",
    "    accuracy_lst = []\n",
    "    epochs = trange(num_epochs)\n",
    "    for epoch in tqdm(epochs):\n",
    "        ep_loss = 0\n",
    "        for batch in train_data:\n",
    "            print(batch.size)\n",
    "            imgs, labels, coords = batch\n",
    "            print(imgs.size)\n",
    "            print(labels.size)\n",
    "            print(coords.size)\n",
    "            imgs, labels = imgs.to(device), labels.to(device)     \n",
    "            optimizer.zero_grad()\n",
    "            outputs = model(imgs)\n",
    "            loss = criterion(outputs, labels)\n",
    "            loss.backward()\n",
    "            optimizer.step()\n",
    "            ep_loss += loss.item()\n",
    "        loss_hist.append(ep_loss / len(train_data))\n",
    "        \n",
    "        accuracy = validate(model, test_data)\n",
    "        accuracy_lst.append(accuracy)\n",
    "\n",
    "        epochs.set_description(f\"Epoch={epoch}  loss={loss_hist[epoch]:.4}\")\n",
    "    return accuracy_lst, loss_hist"
   ]
  },
  {
   "cell_type": "markdown",
   "id": "3692f9b4",
   "metadata": {},
   "source": [
    "Задаем пути на изображение, для которого будет проводиться классификация, и на маску (label)"
   ]
  },
  {
   "cell_type": "code",
   "execution_count": 5,
   "id": "70ea4037",
   "metadata": {},
   "outputs": [],
   "source": [
    "raster_path = \"D:/oni/from_lakm/tiffs_clip/subalos_S1B_20191021_.tif\"\n",
    "mask_path = \"D:/oni/from_lakm/tiffs_clip/forest_mask.tif\""
   ]
  },
  {
   "cell_type": "markdown",
   "id": "ef83017e",
   "metadata": {},
   "source": [
    "Открытие изображений, сохранение информации о пространственной привязке для будущего выходного изображения"
   ]
  },
  {
   "cell_type": "code",
   "execution_count": 6,
   "id": "b1b66034",
   "metadata": {},
   "outputs": [],
   "source": [
    "image = gdal.Open(raster_path, gdal.GA_ReadOnly)\n",
    "# получаем инфо о пространственной привязке,\n",
    "# потому что просто картинка на выходе нам не нужна\n",
    "geo_transform = image.GetGeoTransform()\n",
    "projection = image.GetProjectionRef()\n",
    "\n",
    "mask = gdal.Open(mask_path, gdal.GA_ReadOnly)"
   ]
  },
  {
   "cell_type": "code",
   "execution_count": 47,
   "id": "ae2e06ed",
   "metadata": {
    "collapsed": true
   },
   "outputs": [
    {
     "name": "stdout",
     "output_type": "stream",
     "text": [
      "(499997.52242239844, 10.0, 0.0, 6951689.007115613, 0.0, -10.0)\n",
      "PROJCS[\"WGS_1984_UTM_Zone_52N\",GEOGCS[\"WGS 84\",DATUM[\"WGS_1984\",SPHEROID[\"WGS 84\",6378137,298.257223563,AUTHORITY[\"EPSG\",\"7030\"]],AUTHORITY[\"EPSG\",\"6326\"]],PRIMEM[\"Greenwich\",0],UNIT[\"degree\",0.0174532925199433,AUTHORITY[\"EPSG\",\"9122\"]],AUTHORITY[\"EPSG\",\"4326\"]],PROJECTION[\"Transverse_Mercator\"],PARAMETER[\"latitude_of_origin\",0],PARAMETER[\"central_meridian\",129],PARAMETER[\"scale_factor\",0.9996],PARAMETER[\"false_easting\",500000],PARAMETER[\"false_northing\",0],UNIT[\"metre\",1,AUTHORITY[\"EPSG\",\"9001\"]],AXIS[\"Easting\",EAST],AXIS[\"Northing\",NORTH],AUTHORITY[\"EPSG\",\"32652\"]]\n"
     ]
    }
   ],
   "source": [
    "print(geo_transform)\n",
    "print(projection)"
   ]
  },
  {
   "cell_type": "markdown",
   "id": "4fa794fe",
   "metadata": {},
   "source": [
    "Информация о проекции очень важна для конечного изображения, но очень бессмысленна для определения координат пикселов. Кстати, а почему я решила, что результирующее изображение будет иметь те же координаты? Придется train-test слеплять..."
   ]
  },
  {
   "cell_type": "code",
   "execution_count": 8,
   "id": "dd989327",
   "metadata": {},
   "outputs": [
    {
     "name": "stdout",
     "output_type": "stream",
     "text": [
      "image rows and cols: 6146 5008\n",
      "mask rows and cols: 6146 5009\n",
      "image bands: 2\n",
      "mask vs image rows: True\n",
      "mask vs image cols: False\n",
      "Aaaaaaaaaaaaaaaaaaaaaaaaaaaa\n"
     ]
    }
   ],
   "source": [
    "print('image rows and cols:', image.RasterYSize, image.RasterXSize)\n",
    "print('mask rows and cols:', mask.RasterYSize, mask.RasterXSize)\n",
    "print('image bands:', image.RasterCount)\n",
    "print('mask vs image rows:', mask.RasterYSize == image.RasterYSize)\n",
    "print('mask vs image cols:', mask.RasterXSize == image.RasterXSize)\n",
    "print('Aaaaaaaaaaaaaaaaaaaaaaaaaaaa')"
   ]
  },
  {
   "cell_type": "markdown",
   "id": "f819f370",
   "metadata": {},
   "source": [
    "Наш снимок в пикселах имеет размер 6146 на 5008, а также содержит 2 канала: это две поляризации (в случае с данными с открытого спутника Sentinel-1) VV и VH. \n",
    "\n",
    "А у маски другой размер! На один пиксел! За что! Раз мы сохранили инфу о простанственной привязке  для снимка, придется маску чуть изменить. Визуальный анализ показывает, что у маски на одну первую колонку больше. Спрашивается, почему, если я кропала их всех вместе, но ладно\n",
    "\n",
    "Переводим снимок в матричку"
   ]
  },
  {
   "cell_type": "code",
   "execution_count": 9,
   "id": "fbe81637",
   "metadata": {},
   "outputs": [],
   "source": [
    "image_array = image.ReadAsArray()\n",
    "image = None # предлагают прибираться за собой\n",
    "mask_array = mask.ReadAsArray()\n",
    "mask = None\n",
    "\n",
    "image_array = np.stack(image_array, axis=2) # move bands to end\n",
    "# array = np.reshape(array, [rows * cols, bands]) # если хочешь вытянуть в колбаску\n",
    "\n",
    "mask_array = np.delete(mask_array, 0, 1) # del first column"
   ]
  },
  {
   "cell_type": "code",
   "execution_count": 10,
   "id": "4f4b97b7",
   "metadata": {},
   "outputs": [
    {
     "name": "stdout",
     "output_type": "stream",
     "text": [
      "(6146, 5008, 2)\n",
      "(6146, 5008)\n"
     ]
    }
   ],
   "source": [
    "print(image_array.shape)\n",
    "print(mask_array.shape)"
   ]
  },
  {
   "cell_type": "markdown",
   "id": "7c49e3c8",
   "metadata": {},
   "source": [
    "У всех снимков (не маски) есть в пределах охвата маски участки, где снимков нет:"
   ]
  },
  {
   "cell_type": "markdown",
   "id": "0c3ef9a8",
   "metadata": {},
   "source": [
    "Судя по всему, за NaN пока что отвечают нолики. Заменять их на NaN или нет?.. Пока не будем"
   ]
  },
  {
   "cell_type": "code",
   "execution_count": 9,
   "id": "e67a9944",
   "metadata": {},
   "outputs": [
    {
     "data": {
      "text/plain": [
       "True"
      ]
     },
     "execution_count": 9,
     "metadata": {},
     "output_type": "execute_result"
    }
   ],
   "source": [
    "image_array[0][0][0] == 0.0"
   ]
  },
  {
   "cell_type": "markdown",
   "id": "6a0d7f3f",
   "metadata": {},
   "source": [
    "Наверное, стоит визуализировать кусочки изображений"
   ]
  },
  {
   "cell_type": "code",
   "execution_count": 11,
   "id": "f2ff19e1",
   "metadata": {},
   "outputs": [
    {
     "data": {
      "image/png": "[encoded data removed]",
      "text/plain": [
       "<Figure size 432x288 with 2 Axes>"
      ]
     },
     "metadata": {
      "needs_background": "light"
     },
     "output_type": "display_data"
    }
   ],
   "source": [
    "figure1 = image_array[1000:1100, 600:700, :1] # ищем образцово-показательный кусочек\n",
    "figure2 = mask_array[1000:1100, 600:700]\n",
    "\n",
    "fig, axis = plt.subplots(1, 2)\n",
    "# plt.figure(figsize=(6, 6))\n",
    "axis[0].imshow(figure1, cmap='Greys_r')\n",
    "axis[1].imshow(figure2, cmap='Greys_r')\n",
    "plt.grid(False)\n",
    "ax = plt.gca()\n",
    "ax.get_xaxis().set_visible(False)\n",
    "ax.get_yaxis().set_visible(False)\n",
    "plt.show()  "
   ]
  },
  {
   "cell_type": "markdown",
   "id": "7832d9fd",
   "metadata": {},
   "source": [
    "Судя по всему, лес (1) белый на маске. Можно обратить внимание на то, что на снимке в выбранной поляризации не_лес темнее"
   ]
  },
  {
   "cell_type": "markdown",
   "id": "24cc5a13",
   "metadata": {},
   "source": [
    "Настало время резать на train-test. Раз мы замыслили кросс-валидацию, нужно ли нам отрезать валидационный кусок еще отдельно? Наверное, пока я не придумала, как учить с кросс-валидацией, сделаем. Отрежем нижние 20 % снимка на тест, преднижние 10 % снимка на валидацию. И что, мы будем потом в статье нижнюю колбаску снимка показывать? Как глупо..."
   ]
  },
  {
   "cell_type": "code",
   "execution_count": 11,
   "id": "88428634",
   "metadata": {},
   "outputs": [],
   "source": [
    "# мне хочется резать по круглым числам, поэтому\n",
    "bound_val = int(image_array.shape[0] * 0.07) * 10 # тут пришлось отбросить единицы при округлении 1/10 от числа\n",
    "bound_test = int(image_array.shape[0] * 0.8) # тут округление вниз кратно 10, мне нравится\n",
    "\n",
    "train_image = image_array[:bound_val]\n",
    "train_labels = mask_array[:bound_val]\n",
    "\n",
    "val_image = image_array[bound_val:bound_test]\n",
    "val_labels = mask_array[bound_val:bound_test]\n",
    "\n",
    "test_image = image_array[bound_test:]\n",
    "test_labels = mask_array[bound_test:]"
   ]
  },
  {
   "cell_type": "code",
   "execution_count": 12,
   "id": "d038932c",
   "metadata": {},
   "outputs": [
    {
     "name": "stdout",
     "output_type": "stream",
     "text": [
      "(4300, 5008, 2)\n",
      "(4300, 5008)\n",
      "(616, 5008, 2)\n",
      "(616, 5008)\n",
      "(1230, 5008, 2)\n",
      "(1230, 5008)\n"
     ]
    }
   ],
   "source": [
    "print(train_image.shape) # 6146 rows total\n",
    "print(train_labels.shape)\n",
    "print(val_image.shape)\n",
    "print(val_labels.shape)\n",
    "print(test_image.shape)\n",
    "print(test_labels.shape)"
   ]
  },
  {
   "cell_type": "code",
   "execution_count": 22,
   "id": "0437aefc",
   "metadata": {},
   "outputs": [
    {
     "data": {
      "text/plain": [
       "21497184"
      ]
     },
     "execution_count": 22,
     "metadata": {},
     "output_type": "execute_result"
    }
   ],
   "source": [
    "(4300 - 4) * (5008 - 4)"
   ]
  },
  {
   "cell_type": "markdown",
   "id": "857c89c7",
   "metadata": {},
   "source": [
    "Будем ли мы баловаться трансформациями?"
   ]
  },
  {
   "cell_type": "code",
   "execution_count": 13,
   "id": "434ded18",
   "metadata": {},
   "outputs": [],
   "source": [
    "train_transform = transforms.Compose([\n",
    "    transforms.ToTensor(),\n",
    "#     transforms.RandomAutocontrast(p=0.3),\n",
    "#     transforms.GaussianBlur(kernel_size=(3,3), sigma=(0.01, 2.0)),\n",
    "#     transforms.Normalize(mean=[0.485, 0.456, 0.406],\n",
    "#                           std=[0.229, 0.224, 0.225]),\n",
    "])\n",
    "\n",
    "valid_transform = transforms.Compose([\n",
    "    transforms.ToTensor(),\n",
    "#     transforms.Normalize(mean=[0.485, 0.456, 0.406],\n",
    "#                           std=[0.229, 0.224, 0.225]),\n",
    "])"
   ]
  },
  {
   "cell_type": "markdown",
   "id": "602a7af8",
   "metadata": {},
   "source": [
    "Режем на патчи. Готовим датасет"
   ]
  },
  {
   "cell_type": "code",
   "execution_count": 19,
   "id": "ed47e351",
   "metadata": {},
   "outputs": [],
   "source": [
    "patch_size = 5\n",
    "train_dataset = Patcher(train_image, train_labels, train_transform, patch_size, size=100000)\n",
    "valid_dataset = Patcher(val_image, val_labels, valid_transform, patch_size, bound=bound_val)"
   ]
  },
  {
   "cell_type": "code",
   "execution_count": 20,
   "id": "4913ae42",
   "metadata": {},
   "outputs": [
    {
     "name": "stdout",
     "output_type": "stream",
     "text": [
      "100000\n",
      "10000\n"
     ]
    }
   ],
   "source": [
    "print(len(train_dataset))\n",
    "print(len(valid_dataset))"
   ]
  },
  {
   "cell_type": "code",
   "execution_count": 21,
   "id": "b40888aa",
   "metadata": {},
   "outputs": [
    {
     "data": {
      "text/plain": [
       "(tensor([[[0.0123, 0.0160, 0.0169, 0.0177, 0.0167],\n",
       "          [0.0126, 0.0136, 0.0125, 0.0128, 0.0145],\n",
       "          [0.0112, 0.0141, 0.0098, 0.0089, 0.0105],\n",
       "          [0.0122, 0.0147, 0.0113, 0.0101, 0.0108],\n",
       "          [0.0095, 0.0143, 0.0158, 0.0154, 0.0140]],\n",
       " \n",
       "         [[0.0302, 0.0373, 0.0586, 0.0830, 0.0627],\n",
       "          [0.0327, 0.0497, 0.0605, 0.0563, 0.0385],\n",
       "          [0.0344, 0.0437, 0.0464, 0.0367, 0.0294],\n",
       "          [0.0369, 0.0263, 0.0280, 0.0401, 0.0439],\n",
       "          [0.0406, 0.0259, 0.0296, 0.0408, 0.0392]]]),\n",
       " tensor(1.),\n",
       " tensor([0, 0]))"
      ]
     },
     "execution_count": 21,
     "metadata": {},
     "output_type": "execute_result"
    }
   ],
   "source": [
    "train_dataset[0]"
   ]
  },
  {
   "cell_type": "code",
   "execution_count": 22,
   "id": "6e67a391",
   "metadata": {},
   "outputs": [
    {
     "data": {
      "text/plain": [
       "(tensor([[[0.0136, 0.0161, 0.0128, 0.0069, 0.0047],\n",
       "          [0.0127, 0.0134, 0.0121, 0.0091, 0.0045],\n",
       "          [0.0116, 0.0095, 0.0136, 0.0161, 0.0124],\n",
       "          [0.0081, 0.0068, 0.0123, 0.0169, 0.0189],\n",
       "          [0.0059, 0.0073, 0.0095, 0.0122, 0.0161]],\n",
       " \n",
       "         [[0.0273, 0.0403, 0.0479, 0.0385, 0.0412],\n",
       "          [0.0385, 0.0535, 0.0546, 0.0413, 0.0309],\n",
       "          [0.0784, 0.0646, 0.0471, 0.0371, 0.0281],\n",
       "          [0.0432, 0.0503, 0.0459, 0.0329, 0.0236],\n",
       "          [0.0307, 0.0511, 0.0609, 0.0407, 0.0253]]]),\n",
       " tensor(1.),\n",
       " tensor([0, 0]))"
      ]
     },
     "execution_count": 22,
     "metadata": {},
     "output_type": "execute_result"
    }
   ],
   "source": [
    "valid_dataset[0]"
   ]
  },
  {
   "cell_type": "code",
   "execution_count": 26,
   "id": "c87ca8f8",
   "metadata": {},
   "outputs": [],
   "source": [
    "batch_size = 8\n",
    "\n",
    "train_loader = DataLoader(dataset=train_dataset,\n",
    "                          batch_size=batch_size,\n",
    "                          shuffle=True)\n",
    "\n",
    "valid_loader = DataLoader(dataset=valid_dataset,\n",
    "                          batch_size=batch_size,\n",
    "                          shuffle=False)"
   ]
  },
  {
   "cell_type": "markdown",
   "id": "1de317f5",
   "metadata": {},
   "source": [
    "Собираем модель"
   ]
  },
  {
   "cell_type": "code",
   "execution_count": 27,
   "id": "db906d64",
   "metadata": {},
   "outputs": [
    {
     "data": {
      "text/plain": [
       "12500"
      ]
     },
     "execution_count": 27,
     "metadata": {},
     "output_type": "execute_result"
    }
   ],
   "source": [
    "len(train_loader)"
   ]
  },
  {
   "cell_type": "code",
   "execution_count": 24,
   "id": "59455f28",
   "metadata": {},
   "outputs": [],
   "source": [
    "class CNN_s1(nn.Module):\n",
    "    def __init__(self):\n",
    "        super().__init__()\n",
    "        self.conv_stack = nn.Sequential(\n",
    "            nn.Conv2d(2, 32, 3, stride=1, padding=1), # shape: [32,5,5]\n",
    "            nn.Dropout(),\n",
    "            nn.ReLU(),\n",
    "            nn.Conv2d(32, 32, 3, stride=1, padding=1), # shape: [32,5,5]\n",
    "            nn.Dropout(),\n",
    "            nn.ReLU(), \n",
    "            nn.Flatten(),\n",
    "            nn.Linear(32*5*5, 64),\n",
    "            nn.Dropout(),\n",
    "            nn.ReLU(), \n",
    "            nn.Linear(64, 2) # 0 и 1, без softmax, тк кросс-энтропию используем\n",
    "        )\n",
    "\n",
    "    def forward(self, x):\n",
    "        scores = self.conv_stack(x) \n",
    "        return scores"
   ]
  },
  {
   "cell_type": "code",
   "execution_count": 32,
   "id": "db2190fb",
   "metadata": {},
   "outputs": [
    {
     "name": "stdout",
     "output_type": "stream",
     "text": [
      "torch.Size([8, 2, 5, 5])\n",
      "torch.Size([8])\n",
      "torch.Size([8, 2])\n"
     ]
    }
   ],
   "source": [
    "batch = next(iter(train_loader))\n",
    "# batch\n",
    "imgs, labels, coords = batch\n",
    "print(imgs.size()) # опа, каналы у нас на первое место вылезли\n",
    "print(labels.size())\n",
    "print(coords.size())"
   ]
  },
  {
   "cell_type": "markdown",
   "id": "a3c85651",
   "metadata": {},
   "source": [
    "Учимся"
   ]
  },
  {
   "cell_type": "code",
   "execution_count": 25,
   "id": "93410be6",
   "metadata": {},
   "outputs": [
    {
     "name": "stderr",
     "output_type": "stream",
     "text": [
      "  0%|                                                                                           | 0/10 [00:00<?, ?it/s]\n",
      "  0%|                                                                                           | 0/10 [00:00<?, ?it/s]\u001b[A\n",
      "  0%|                                                                                           | 0/10 [00:00<?, ?it/s]\n"
     ]
    },
    {
     "ename": "TypeError",
     "evalue": "object of type 'NoneType' has no len()",
     "output_type": "error",
     "traceback": [
      "\u001b[1;31m---------------------------------------------------------------------------\u001b[0m",
      "\u001b[1;31mTypeError\u001b[0m                                 Traceback (most recent call last)",
      "Input \u001b[1;32mIn [25]\u001b[0m, in \u001b[0;36m<cell line: 5>\u001b[1;34m()\u001b[0m\n\u001b[0;32m      3\u001b[0m optimizer \u001b[38;5;241m=\u001b[39m torch\u001b[38;5;241m.\u001b[39moptim\u001b[38;5;241m.\u001b[39mAdam(model_cnn\u001b[38;5;241m.\u001b[39mparameters(), lr\u001b[38;5;241m=\u001b[39m\u001b[38;5;241m0.001\u001b[39m)\n\u001b[0;32m      4\u001b[0m criterion \u001b[38;5;241m=\u001b[39m nn\u001b[38;5;241m.\u001b[39mCrossEntropyLoss()\n\u001b[1;32m----> 5\u001b[0m accuracy, loss_hist \u001b[38;5;241m=\u001b[39m \u001b[43mtrain\u001b[49m\u001b[43m(\u001b[49m\u001b[43mmodel_cnn\u001b[49m\u001b[43m,\u001b[49m\u001b[43m \u001b[49m\u001b[43mtrain_loader\u001b[49m\u001b[43m,\u001b[49m\u001b[43m \u001b[49m\u001b[43mvalid_loader\u001b[49m\u001b[43m,\u001b[49m\u001b[43m \u001b[49m\u001b[43mcriterion\u001b[49m\u001b[43m,\u001b[49m\u001b[43m \u001b[49m\u001b[43moptimizer\u001b[49m\u001b[43m,\u001b[49m\u001b[43m \u001b[49m\u001b[43mnum_epochs\u001b[49m\u001b[43m \u001b[49m\u001b[38;5;241;43m=\u001b[39;49m\u001b[43m \u001b[49m\u001b[38;5;241;43m10\u001b[39;49m\u001b[43m)\u001b[49m\n",
      "Input \u001b[1;32mIn [7]\u001b[0m, in \u001b[0;36mtrain\u001b[1;34m(model, train_data, test_data, criterion, optimizer, num_epochs)\u001b[0m\n\u001b[0;32m      6\u001b[0m \u001b[38;5;28;01mfor\u001b[39;00m epoch \u001b[38;5;129;01min\u001b[39;00m tqdm(epochs):\n\u001b[0;32m      7\u001b[0m     ep_loss \u001b[38;5;241m=\u001b[39m \u001b[38;5;241m0\u001b[39m\n\u001b[1;32m----> 8\u001b[0m     \u001b[38;5;28;01mfor\u001b[39;00m batch \u001b[38;5;129;01min\u001b[39;00m train_data:\n\u001b[0;32m      9\u001b[0m         \u001b[38;5;28mprint\u001b[39m(batch\u001b[38;5;241m.\u001b[39msize)\n\u001b[0;32m     10\u001b[0m         imgs, labels, coords \u001b[38;5;241m=\u001b[39m batch\n",
      "File \u001b[1;32m~\\anaconda3\\envs\\envpytorch\\lib\\site-packages\\torch\\utils\\data\\dataloader.py:652\u001b[0m, in \u001b[0;36m_BaseDataLoaderIter.__next__\u001b[1;34m(self)\u001b[0m\n\u001b[0;32m    649\u001b[0m \u001b[38;5;28;01mif\u001b[39;00m \u001b[38;5;28mself\u001b[39m\u001b[38;5;241m.\u001b[39m_sampler_iter \u001b[38;5;129;01mis\u001b[39;00m \u001b[38;5;28;01mNone\u001b[39;00m:\n\u001b[0;32m    650\u001b[0m     \u001b[38;5;66;03m# TODO(https://github.com/pytorch/pytorch/issues/76750)\u001b[39;00m\n\u001b[0;32m    651\u001b[0m     \u001b[38;5;28mself\u001b[39m\u001b[38;5;241m.\u001b[39m_reset()  \u001b[38;5;66;03m# type: ignore[call-arg]\u001b[39;00m\n\u001b[1;32m--> 652\u001b[0m data \u001b[38;5;241m=\u001b[39m \u001b[38;5;28;43mself\u001b[39;49m\u001b[38;5;241;43m.\u001b[39;49m\u001b[43m_next_data\u001b[49m\u001b[43m(\u001b[49m\u001b[43m)\u001b[49m\n\u001b[0;32m    653\u001b[0m \u001b[38;5;28mself\u001b[39m\u001b[38;5;241m.\u001b[39m_num_yielded \u001b[38;5;241m+\u001b[39m\u001b[38;5;241m=\u001b[39m \u001b[38;5;241m1\u001b[39m\n\u001b[0;32m    654\u001b[0m \u001b[38;5;28;01mif\u001b[39;00m \u001b[38;5;28mself\u001b[39m\u001b[38;5;241m.\u001b[39m_dataset_kind \u001b[38;5;241m==\u001b[39m _DatasetKind\u001b[38;5;241m.\u001b[39mIterable \u001b[38;5;129;01mand\u001b[39;00m \\\n\u001b[0;32m    655\u001b[0m         \u001b[38;5;28mself\u001b[39m\u001b[38;5;241m.\u001b[39m_IterableDataset_len_called \u001b[38;5;129;01mis\u001b[39;00m \u001b[38;5;129;01mnot\u001b[39;00m \u001b[38;5;28;01mNone\u001b[39;00m \u001b[38;5;129;01mand\u001b[39;00m \\\n\u001b[0;32m    656\u001b[0m         \u001b[38;5;28mself\u001b[39m\u001b[38;5;241m.\u001b[39m_num_yielded \u001b[38;5;241m>\u001b[39m \u001b[38;5;28mself\u001b[39m\u001b[38;5;241m.\u001b[39m_IterableDataset_len_called:\n",
      "File \u001b[1;32m~\\anaconda3\\envs\\envpytorch\\lib\\site-packages\\torch\\utils\\data\\dataloader.py:692\u001b[0m, in \u001b[0;36m_SingleProcessDataLoaderIter._next_data\u001b[1;34m(self)\u001b[0m\n\u001b[0;32m    690\u001b[0m \u001b[38;5;28;01mdef\u001b[39;00m \u001b[38;5;21m_next_data\u001b[39m(\u001b[38;5;28mself\u001b[39m):\n\u001b[0;32m    691\u001b[0m     index \u001b[38;5;241m=\u001b[39m \u001b[38;5;28mself\u001b[39m\u001b[38;5;241m.\u001b[39m_next_index()  \u001b[38;5;66;03m# may raise StopIteration\u001b[39;00m\n\u001b[1;32m--> 692\u001b[0m     data \u001b[38;5;241m=\u001b[39m \u001b[38;5;28;43mself\u001b[39;49m\u001b[38;5;241;43m.\u001b[39;49m\u001b[43m_dataset_fetcher\u001b[49m\u001b[38;5;241;43m.\u001b[39;49m\u001b[43mfetch\u001b[49m\u001b[43m(\u001b[49m\u001b[43mindex\u001b[49m\u001b[43m)\u001b[49m  \u001b[38;5;66;03m# may raise StopIteration\u001b[39;00m\n\u001b[0;32m    693\u001b[0m     \u001b[38;5;28;01mif\u001b[39;00m \u001b[38;5;28mself\u001b[39m\u001b[38;5;241m.\u001b[39m_pin_memory:\n\u001b[0;32m    694\u001b[0m         data \u001b[38;5;241m=\u001b[39m _utils\u001b[38;5;241m.\u001b[39mpin_memory\u001b[38;5;241m.\u001b[39mpin_memory(data, \u001b[38;5;28mself\u001b[39m\u001b[38;5;241m.\u001b[39m_pin_memory_device)\n",
      "File \u001b[1;32m~\\anaconda3\\envs\\envpytorch\\lib\\site-packages\\torch\\utils\\data\\_utils\\fetch.py:52\u001b[0m, in \u001b[0;36m_MapDatasetFetcher.fetch\u001b[1;34m(self, possibly_batched_index)\u001b[0m\n\u001b[0;32m     50\u001b[0m \u001b[38;5;28;01melse\u001b[39;00m:\n\u001b[0;32m     51\u001b[0m     data \u001b[38;5;241m=\u001b[39m \u001b[38;5;28mself\u001b[39m\u001b[38;5;241m.\u001b[39mdataset[possibly_batched_index]\n\u001b[1;32m---> 52\u001b[0m \u001b[38;5;28;01mreturn\u001b[39;00m \u001b[38;5;28;43mself\u001b[39;49m\u001b[38;5;241;43m.\u001b[39;49m\u001b[43mcollate_fn\u001b[49m\u001b[43m(\u001b[49m\u001b[43mdata\u001b[49m\u001b[43m)\u001b[49m\n",
      "File \u001b[1;32m~\\anaconda3\\envs\\envpytorch\\lib\\site-packages\\torch\\utils\\data\\_utils\\collate.py:170\u001b[0m, in \u001b[0;36mdefault_collate\u001b[1;34m(batch)\u001b[0m\n\u001b[0;32m    168\u001b[0m it \u001b[38;5;241m=\u001b[39m \u001b[38;5;28miter\u001b[39m(batch)\n\u001b[0;32m    169\u001b[0m elem_size \u001b[38;5;241m=\u001b[39m \u001b[38;5;28mlen\u001b[39m(\u001b[38;5;28mnext\u001b[39m(it))\n\u001b[1;32m--> 170\u001b[0m \u001b[38;5;28;01mif\u001b[39;00m \u001b[38;5;129;01mnot\u001b[39;00m \u001b[38;5;28;43mall\u001b[39;49m\u001b[43m(\u001b[49m\u001b[38;5;28;43mlen\u001b[39;49m\u001b[43m(\u001b[49m\u001b[43melem\u001b[49m\u001b[43m)\u001b[49m\u001b[43m \u001b[49m\u001b[38;5;241;43m==\u001b[39;49m\u001b[43m \u001b[49m\u001b[43melem_size\u001b[49m\u001b[43m \u001b[49m\u001b[38;5;28;43;01mfor\u001b[39;49;00m\u001b[43m \u001b[49m\u001b[43melem\u001b[49m\u001b[43m \u001b[49m\u001b[38;5;129;43;01min\u001b[39;49;00m\u001b[43m \u001b[49m\u001b[43mit\u001b[49m\u001b[43m)\u001b[49m:\n\u001b[0;32m    171\u001b[0m     \u001b[38;5;28;01mraise\u001b[39;00m \u001b[38;5;167;01mRuntimeError\u001b[39;00m(\u001b[38;5;124m'\u001b[39m\u001b[38;5;124meach element in list of batch should be of equal size\u001b[39m\u001b[38;5;124m'\u001b[39m)\n\u001b[0;32m    172\u001b[0m transposed \u001b[38;5;241m=\u001b[39m \u001b[38;5;28mlist\u001b[39m(\u001b[38;5;28mzip\u001b[39m(\u001b[38;5;241m*\u001b[39mbatch))  \u001b[38;5;66;03m# It may be accessed twice, so we use a list.\u001b[39;00m\n",
      "File \u001b[1;32m~\\anaconda3\\envs\\envpytorch\\lib\\site-packages\\torch\\utils\\data\\_utils\\collate.py:170\u001b[0m, in \u001b[0;36m<genexpr>\u001b[1;34m(.0)\u001b[0m\n\u001b[0;32m    168\u001b[0m it \u001b[38;5;241m=\u001b[39m \u001b[38;5;28miter\u001b[39m(batch)\n\u001b[0;32m    169\u001b[0m elem_size \u001b[38;5;241m=\u001b[39m \u001b[38;5;28mlen\u001b[39m(\u001b[38;5;28mnext\u001b[39m(it))\n\u001b[1;32m--> 170\u001b[0m \u001b[38;5;28;01mif\u001b[39;00m \u001b[38;5;129;01mnot\u001b[39;00m \u001b[38;5;28mall\u001b[39m(\u001b[38;5;28;43mlen\u001b[39;49m\u001b[43m(\u001b[49m\u001b[43melem\u001b[49m\u001b[43m)\u001b[49m \u001b[38;5;241m==\u001b[39m elem_size \u001b[38;5;28;01mfor\u001b[39;00m elem \u001b[38;5;129;01min\u001b[39;00m it):\n\u001b[0;32m    171\u001b[0m     \u001b[38;5;28;01mraise\u001b[39;00m \u001b[38;5;167;01mRuntimeError\u001b[39;00m(\u001b[38;5;124m'\u001b[39m\u001b[38;5;124meach element in list of batch should be of equal size\u001b[39m\u001b[38;5;124m'\u001b[39m)\n\u001b[0;32m    172\u001b[0m transposed \u001b[38;5;241m=\u001b[39m \u001b[38;5;28mlist\u001b[39m(\u001b[38;5;28mzip\u001b[39m(\u001b[38;5;241m*\u001b[39mbatch))  \u001b[38;5;66;03m# It may be accessed twice, so we use a list.\u001b[39;00m\n",
      "\u001b[1;31mTypeError\u001b[0m: object of type 'NoneType' has no len()"
     ]
    }
   ],
   "source": [
    "model_cnn = CNN_s1().to(device)\n",
    "# optimizer = torch.optim.SGD(model_cnn.parameters(), lr=0.001)\n",
    "optimizer = torch.optim.Adam(model_cnn.parameters(), lr=0.001)\n",
    "criterion = nn.CrossEntropyLoss()\n",
    "accuracy, loss_hist = train(model_cnn, train_loader, valid_loader, criterion, optimizer, num_epochs = 10)"
   ]
  },
  {
   "cell_type": "markdown",
   "id": "d49787fc",
   "metadata": {},
   "source": [
    "Походу я складываю пустышки в патчер, если условие в нем не выполняется"
   ]
  },
  {
   "cell_type": "code",
   "execution_count": null,
   "id": "179aa59e",
   "metadata": {},
   "outputs": [],
   "source": [
    "plt.plot(range(10), loss_hist)\n",
    "plt.xlabel(\"Epochs\", fontsize=15)\n",
    "plt.ylabel(\"Loss\", fontsize=15)\n",
    "plt.show()"
   ]
  },
  {
   "cell_type": "code",
   "execution_count": null,
   "id": "e55e1600",
   "metadata": {},
   "outputs": [],
   "source": [
    "plt.plot(range(10), accuracy)\n",
    "plt.xlabel(\"Epochs\", fontsize=15)\n",
    "plt.ylabel(\"Accuracy\", fontsize=15)\n",
    "plt.show()"
   ]
  },
  {
   "cell_type": "markdown",
   "id": "081f4817",
   "metadata": {},
   "source": [
    "где-то тут оцениваем качество"
   ]
  },
  {
   "cell_type": "code",
   "execution_count": null,
   "id": "09b80961",
   "metadata": {},
   "outputs": [],
   "source": [
    "# mathews corr, roc auc, pres recall\n",
    "# PR-curve\n",
    "scores = KNN.predict_proba(X_test)[:,1]\n",
    "precision, recall, thresholds = precision_recall_curve(y_test, scores)\n",
    "knn_auc_pr = auc(recall, precision)\n",
    "display = PrecisionRecallDisplay.from_estimator(model_cnn, X_test, y_test)\n",
    "_ = display.ax_.set_title(\"Precision-Recall curve\")"
   ]
  },
  {
   "cell_type": "code",
   "execution_count": null,
   "id": "15800867",
   "metadata": {},
   "outputs": [],
   "source": [
    "# ROC-curve\n",
    "roc = roc_auc_score(y_score=x_train, y_true=y_train) \n",
    "plot_roc_curve(model_cnn, X_test, y_test)"
   ]
  },
  {
   "cell_type": "markdown",
   "id": "6915324c",
   "metadata": {},
   "source": [
    "Где-то тут собираем всё в один снимок"
   ]
  },
  {
   "cell_type": "code",
   "execution_count": null,
   "id": "ab4829a9",
   "metadata": {},
   "outputs": [],
   "source": [
    "result_image = 0 # model output"
   ]
  },
  {
   "cell_type": "markdown",
   "id": "9e95cb2e",
   "metadata": {},
   "source": [
    "Выгружаем полученное изображение в реальный мир"
   ]
  },
  {
   "cell_type": "code",
   "execution_count": null,
   "id": "bc98637f",
   "metadata": {},
   "outputs": [],
   "source": [
    "# дадим ему имя и место\n",
    "out_raster = \"D:/oni/from_lakm/out/result.tif\" \n",
    "\n",
    "def createGeotiff(out_raster, data, geo_transform, projection):\n",
    "    # Create a GeoTIFF file with the given data\n",
    "    driver = gdal.GetDriverByName('GTiff')\n",
    "    rows, cols = data.shape\n",
    "    rasterDS = driver.Create(out_raster, cols, rows, 1, gdal.GDT_Int32) # или не инт?\n",
    "    rasterDS.SetGeoTransform(geo_transform)\n",
    "    rasterDS.SetProjection(projection)\n",
    "    band = rasterDS.GetRasterBand(1)\n",
    "    band.WriteArray(data)\n",
    "    rasterDS = None\n",
    "\n",
    "# экспорт результата\n",
    "createGeotiff(out_raster, result_image, geo_transform, projection)"
   ]
  },
  {
   "cell_type": "markdown",
   "id": "4857dfa6",
   "metadata": {},
   "source": [
    "Песочница"
   ]
  },
  {
   "cell_type": "code",
   "execution_count": 30,
   "id": "dc9128cd",
   "metadata": {
    "collapsed": true
   },
   "outputs": [
    {
     "data": {
      "text/plain": [
       "array([[1, 2, 3],\n",
       "       [4, 5, 6],\n",
       "       [7, 8, 9]])"
      ]
     },
     "execution_count": 30,
     "metadata": {},
     "output_type": "execute_result"
    }
   ],
   "source": [
    "b = np.array([[1,2,3], [4,5,6], [7,8,9]]) #, [7,8,9]\n",
    "b"
   ]
  },
  {
   "cell_type": "code",
   "execution_count": 27,
   "id": "9a2b69c5",
   "metadata": {
    "collapsed": true
   },
   "outputs": [
    {
     "data": {
      "text/plain": [
       "array([[1, 2],\n",
       "       [4, 5]])"
      ]
     },
     "execution_count": 27,
     "metadata": {},
     "output_type": "execute_result"
    }
   ],
   "source": [
    "b[:2, :2]"
   ]
  },
  {
   "cell_type": "code",
   "execution_count": 33,
   "id": "0c0abce6",
   "metadata": {
    "collapsed": true
   },
   "outputs": [
    {
     "name": "stdout",
     "output_type": "stream",
     "text": [
      "[[1 2]\n",
      " [4 5]]\n",
      "[[2 3]\n",
      " [5 6]]\n",
      "[[4 5]\n",
      " [7 8]]\n",
      "[[5 6]\n",
      " [8 9]]\n"
     ]
    }
   ],
   "source": [
    "for i in range(b.shape[0] - 1):\n",
    "    for j in range(b.shape[1] - 1):\n",
    "        print(b[i:i+2, j:j+2])"
   ]
  },
  {
   "cell_type": "code",
   "execution_count": 36,
   "id": "94dde5d7",
   "metadata": {},
   "outputs": [
    {
     "data": {
      "text/plain": [
       "9"
      ]
     },
     "execution_count": 36,
     "metadata": {},
     "output_type": "execute_result"
    }
   ],
   "source": [
    "b[5//2][2]"
   ]
  },
  {
   "cell_type": "code",
   "execution_count": null,
   "id": "2cd8559a",
   "metadata": {},
   "outputs": [],
   "source": []
  },
  {
   "cell_type": "code",
   "execution_count": 38,
   "id": "62c66f03",
   "metadata": {},
   "outputs": [
    {
     "name": "stdout",
     "output_type": "stream",
     "text": [
      "no\n"
     ]
    }
   ],
   "source": [
    "a = 360\n",
    "if (image_array[a:a + 5, :5] == 0).all():\n",
    "    print('yas')\n",
    "else:\n",
    "    print('no')"
   ]
  },
  {
   "cell_type": "code",
   "execution_count": 36,
   "id": "86f86380",
   "metadata": {},
   "outputs": [
    {
     "data": {
      "text/plain": [
       "False"
      ]
     },
     "execution_count": 36,
     "metadata": {},
     "output_type": "execute_result"
    }
   ],
   "source": [
    "(image_array[360:365, :5] == 0).all()"
   ]
  },
  {
   "cell_type": "markdown",
   "id": "24620ba5",
   "metadata": {},
   "source": [
    "На посмотреть"
   ]
  },
  {
   "cell_type": "markdown",
   "id": "a5028788",
   "metadata": {},
   "source": [
    "https://github.com/d-smit/sentinel2-deep-learning\n",
    "\n",
    "https://github.com/scikit-learn/scikit-learn/blob/36958fb24/sklearn/feature_extraction/image.py#L323"
   ]
  },
  {
   "cell_type": "code",
   "execution_count": 42,
   "id": "509b22d9",
   "metadata": {},
   "outputs": [],
   "source": [
    "# Куда-то в патчер нужно засунуть вычисление координат центрального пиксела и складывание этого знания в датасет\n",
    "# В начале нам понадобится нарезатель на патчи больших снимков\n",
    "# Еще он должен узнавать и записывать класс \n",
    "# не храним, а на основе свалки координат выбираем патч в гет айтем. а в длине длина свалки координат\n",
    "# class Patcher(Dataset):\n",
    "#     def __init__(self, image, mask, transform, patch_size, bound=0, seed=42):\n",
    "#         super().__init__()\n",
    "#         self.transform = transform\n",
    "#         self.rng = np.random.RandomState(seed)\n",
    "#         self.patches = []\n",
    "#         self.labels = []\n",
    "#         self.coords = []\n",
    "#         im_h, im_w = image.shape[0], image.shape[1]\n",
    "#         for row in tqdm(range(im_h - (patch_size - 1))):\n",
    "#             for col in range(im_w - (patch_size - 1)):\n",
    "#                 if (image[row:row + patch_size, col:col + patch_size] == 0).all(): # empty pixels, go away\n",
    "#                     break\n",
    "#                 else:\n",
    "#                     continue\n",
    "#                 patch = image[row:row + patch_size, col:col + patch_size]\n",
    "#                 self.patches.append(patch)\n",
    "                \n",
    "#                 label = mask[row + patch_size // 2][col + patch_size // 2] # центральный пиксел\n",
    "#                 self.labels.append(label)\n",
    "                \n",
    "#                 coord = (0, 0)\n",
    "#                 self.coords.append(coord)\n",
    "                \n",
    "#                 # (4300 - 4) * (5008 - 4) = 21 497 184 патчей\n",
    "#                 # где-то тут память забивается и всё умирает\n",
    "\n",
    "\n",
    "#     def __getitem__(self, indx):\n",
    "#         return self.transform(self.patches[indx]), torch.tensor(self.labels[indx]).float(), torch.tensor(self.coords[indx])\n",
    "\n",
    "#     def __len__(self):\n",
    "#         return 10000\n",
    "# #         return len(self.patches)"
   ]
  }
 ],
 "metadata": {
  "kernelspec": {
   "display_name": "envpytorch",
   "language": "python",
   "name": "envpytorch"
  },
  "language_info": {
   "codemirror_mode": {
    "name": "ipython",
    "version": 3
   },
   "file_extension": ".py",
   "mimetype": "text/x-python",
   "name": "python",
   "nbconvert_exporter": "python",
   "pygments_lexer": "ipython3",
   "version": "3.10.4"
  }
 },
 "nbformat": 4,
 "nbformat_minor": 5
}
