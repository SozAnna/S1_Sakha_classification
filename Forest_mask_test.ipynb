{
 "cells": [
  {
   "cell_type": "markdown",
   "id": "dff8beb9",
   "metadata": {},
   "source": [
    "# Выделение маски леса на снимке Sentinel-1 SAR: Тестирование моделей"
   ]
  },
  {
   "cell_type": "markdown",
   "id": "4bfcad04",
   "metadata": {},
   "source": [
    "Блокнот разбит на 4 части: оценка сверточной сети с тремя сверточными слоями, обучение ResNet-7, обучение U-Net и обучение Random Forest. \n",
    "\n",
    "В ходе оценки качества моделей производится предсказание ответов для всего снимка, формирование маски леса для всего снимка, оценка метрик для полученной маски, вычисление разницы между оригинальной и сгенерированной масками, а также экспорт маски в виде растра формата geotiff (tiff, содержащий информацию о пространственном расположении снимка на местности)."
   ]
  },
  {
   "cell_type": "markdown",
   "id": "01c43c25",
   "metadata": {},
   "source": [
    "## Подготовка данных"
   ]
  },
  {
   "cell_type": "markdown",
   "id": "111468e1",
   "metadata": {},
   "source": [
    "Загрузка библиотек"
   ]
  },
  {
   "cell_type": "code",
   "execution_count": null,
   "id": "3314d274",
   "metadata": {},
   "outputs": [],
   "source": [
    "# basic\n",
    "import os\n",
    "import joblib\n",
    "import numpy as np\n",
    "from osgeo import gdal\n",
    "from tqdm import tqdm\n",
    "from tqdm import trange\n",
    "import random\n",
    "import matplotlib.pyplot as plt\n",
    "\n",
    "# preprocessing\n",
    "from sklearn.preprocessing import StandardScaler\n",
    "\n",
    "# dl\n",
    "import torch\n",
    "from torch import nn\n",
    "from torch.utils.data import Dataset\n",
    "from torch.utils.data import DataLoader\n",
    "from torchvision import transforms\n",
    "\n",
    "# classic ml\n",
    "from sklearn.model_selection import train_test_split\n",
    "from sklearn.ensemble import RandomForestClassifier\n",
    "\n",
    "# metrics\n",
    "from sklearn.metrics import roc_auc_score\n",
    "from sklearn.metrics import confusion_matrix, matthews_corrcoef\n",
    "from sklearn.metrics import balanced_accuracy_score\n",
    "\n",
    "# seed\n",
    "torch.manual_seed(42)\n",
    "random.seed(42)\n",
    "np.random.seed(42)\n",
    "\n",
    "device = torch.device(\"cuda\" if torch.cuda.is_available() else \"cpu\")\n",
    "torch.cuda.is_available()"
   ]
  },
  {
   "cell_type": "markdown",
   "id": "e1177479",
   "metadata": {},
   "source": [
    "Функции"
   ]
  },
  {
   "cell_type": "code",
   "execution_count": null,
   "id": "ce467ccb",
   "metadata": {},
   "outputs": [],
   "source": [
    "# расчет метрики Intersection over Union\n",
    "def IoU(tp, fp, fn):\n",
    "    return tp / (tp + fp + fn)"
   ]
  },
  {
   "cell_type": "code",
   "execution_count": null,
   "id": "0dc5d15c",
   "metadata": {},
   "outputs": [],
   "source": [
    "# Вычисление метрик\n",
    "def print_metrics(labels, outputs):\n",
    "    print('Доля залесеных территорий на оригинальной маске')\n",
    "    print(f'{labels[labels == 1].size / labels.size :.2}')\n",
    "    print('Доля залесеных территорий на результате работы модели')\n",
    "    print(f'{outputs[outputs == 1].size / outputs.size :.2}')\n",
    "    \n",
    "    if len(labels.shape) > 1:\n",
    "        labels = labels.flatten()\n",
    "        outputs = outputs.flatten()\n",
    "\n",
    "    print(f\"Matthews correlation coefficient={matthews_corrcoef(labels, outputs):.2}\")\n",
    "    print(f\"ROC_AUC={roc_auc_score(labels, outputs):.2}\")\n",
    "    print(f\"Balanced accuracy score={balanced_accuracy_score(labels, outputs):.2}\")\n",
    "\n",
    "    tn, fp, fn, tp = confusion_matrix(labels, outputs).ravel()\n",
    "    iou = IoU(tp, fp, fn)\n",
    "\n",
    "    print(f\"Intersection over Union = {iou:.2}\")"
   ]
  },
  {
   "cell_type": "code",
   "execution_count": null,
   "id": "180046a4",
   "metadata": {},
   "outputs": [],
   "source": [
    "# геопривязка классифицированного изображения\n",
    "def createGeotiff(out_raster, data, geo_transform, projection):\n",
    "    driver = gdal.GetDriverByName('GTiff')\n",
    "    rows, cols = data.shape\n",
    "    rasterDS = driver.Create(out_raster, cols, rows, 1, gdal.GDT_Byte) \n",
    "    rasterDS.SetGeoTransform(geo_transform)\n",
    "    rasterDS.SetProjection(projection)\n",
    "    band = rasterDS.GetRasterBand(1)\n",
    "    band.WriteArray(data)\n",
    "    rasterDS = None"
   ]
  },
  {
   "cell_type": "markdown",
   "id": "7abf81cf",
   "metadata": {},
   "source": [
    "### Загрузка и предобработка"
   ]
  },
  {
   "cell_type": "code",
   "execution_count": null,
   "id": "1b483cf5",
   "metadata": {},
   "outputs": [],
   "source": [
    "!gdown --id 18RnYJKsWTqHfdYZ1Ej_EY44FpJntrKae # forest_mask\n",
    "!gdown --id 18jTiMnaGNneKwCLaThF4tEZWXKdT5fF5 # sentinel-1 sar image"
   ]
  },
  {
   "cell_type": "code",
   "execution_count": null,
   "id": "a1c51eb3",
   "metadata": {},
   "outputs": [],
   "source": [
    "raster_path = \"/content/subalos_S1B_20191021_.tif\"\n",
    "mask_path = \"/content/forest_mask_.tif\"\n",
    "\n",
    "image = gdal.Open(raster_path, gdal.GA_ReadOnly)\n",
    "\n",
    "# получаем инфо о пространственной привязке\n",
    "geo_transform = image.GetGeoTransform()\n",
    "projection = image.GetProjectionRef()\n",
    "\n",
    "image_array = image.ReadAsArray()\n",
    "\n",
    "mask = gdal.Open(mask_path, gdal.GA_ReadOnly)\n",
    "mask_array = mask.ReadAsArray().astype(np.int8)\n",
    "\n",
    "image = None \n",
    "mask = None\n",
    "\n",
    "print(image_array.shape)\n",
    "print(mask_array.shape)"
   ]
  },
  {
   "cell_type": "code",
   "execution_count": null,
   "id": "02dc23b3",
   "metadata": {},
   "outputs": [],
   "source": [
    "band_1 = image_array[0]\n",
    "band_2 = image_array[1]\n",
    "\n",
    "band_1 = StandardScaler().fit_transform(band_1)\n",
    "band_2 = StandardScaler().fit_transform(band_2)\n",
    "\n",
    "image_norm = np.stack((band_1, band_2), axis=-1)\n",
    "image_norm.shape"
   ]
  },
  {
   "cell_type": "markdown",
   "id": "b2776c09",
   "metadata": {},
   "source": [
    "Чтобы не забывать границу, после которой можно оценивать метрики"
   ]
  },
  {
   "cell_type": "code",
   "execution_count": null,
   "id": "582ad140",
   "metadata": {},
   "outputs": [],
   "source": [
    "bound_test = 2700"
   ]
  },
  {
   "cell_type": "markdown",
   "id": "c43a12fb",
   "metadata": {},
   "source": [
    "## Сверточные сети для классификации"
   ]
  },
  {
   "cell_type": "code",
   "execution_count": null,
   "id": "5203710b",
   "metadata": {},
   "outputs": [],
   "source": [
    "# генератор патчей\n",
    "# так как мы классифицируем центральный пиксел, размер стороны патча должен быть нечетным\n",
    "class Patcher(Dataset):\n",
    "    def __init__(self, image, mask, transform, patch_size):\n",
    "        super().__init__()\n",
    "              \n",
    "        assert patch_size % 2, \"Нечетные патчи, пожалуйста!\"\n",
    "        self.image = image\n",
    "        self.mask = mask\n",
    "        self.transform = transform\n",
    "        self.patch_size = patch_size\n",
    "        self.im_h, self.im_w = image.shape[0], image.shape[1]\n",
    "    \n",
    "        half_patch = self.patch_size // 2\n",
    "        # координаты центрального пиксела для восстановления маски\n",
    "        coord_list = list()\n",
    "        for central_x in trange(half_patch, self.im_w - half_patch): \n",
    "            for central_y in range(half_patch, self.im_h - half_patch):\n",
    "                # создаем патч, только если он не нулевой\n",
    "                if (self.image[central_y - half_patch:central_y + half_patch + 1,\n",
    "                               central_x - half_patch:central_x + half_patch + 1] != 0).all():\n",
    "                    coord_list.append([central_y, central_x])\n",
    "        self.coords = np.array(coord_list)\n",
    "        self.size = len(self.coords)\n",
    "\n",
    "    def __getitem__(self, indx):\n",
    "        central_x = self.coords[indx, 1] # на основе координат центрального пиксела\n",
    "        central_y = self.coords[indx, 0]\n",
    "        \n",
    "        half_patch = self.patch_size // 2\n",
    "        # вырезаем патч\n",
    "        patch = self.image[central_y - half_patch:central_y + half_patch + 1, \n",
    "                           central_x - half_patch:central_x + half_patch + 1]\n",
    "        \n",
    "        # определяем класс\n",
    "        label = self.mask[central_y][central_x]\n",
    "        return self.transform(patch), torch.tensor(label), indx \n",
    "    \n",
    "    def __len__(self):\n",
    "        return self.size"
   ]
  },
  {
   "cell_type": "code",
   "execution_count": null,
   "id": "6e6ee6ab",
   "metadata": {},
   "outputs": [],
   "source": [
    "# функция для валидации на тесте \n",
    "def final_validate(model, \n",
    "                  criterion,\n",
    "                  test_loader):\n",
    "    model.eval()\n",
    "    outputs = []\n",
    "    coords = []\n",
    "    with torch.no_grad():\n",
    "        for batch in test_loader:\n",
    "            patch, label, coord = batch\n",
    "            patch, label = patch.to(device), label.to(device)\n",
    "            y_pred = model(patch) # get predictions\n",
    "            y_pred = y_pred.squeeze().cpu()\n",
    "            y_pred = torch.where(y_pred > 0.5, 1, 0)\n",
    "            outputs.append(y_pred.numpy())\n",
    "            coords.append(coord)\n",
    "        \n",
    "    outputs = np.concatenate(outputs, axis=0)\n",
    "    coords = np.concatenate(coords, axis=0)\n",
    "    \n",
    "    \n",
    "    return outputs, coords"
   ]
  },
  {
   "cell_type": "code",
   "execution_count": null,
   "id": "de6909c3",
   "metadata": {},
   "outputs": [],
   "source": [
    "# заполнение болванки изображения ответами\n",
    "def fill_image(coord, dataset, zero_image, outputs):\n",
    "    for indx in trange(len(coord)):\n",
    "        coord_x, coord_y = dataset.coords[coord[indx]]\n",
    "        zero_image[coord_x, coord_y] = outputs[indx]\n",
    "        \n",
    "    return zero_image"
   ]
  },
  {
   "cell_type": "code",
   "execution_count": null,
   "id": "c5b07584",
   "metadata": {},
   "outputs": [],
   "source": [
    "def generate_result_image(patch_size, \n",
    "                          img, lbl, \n",
    "                          transform, batch_size, \n",
    "                          model, criterion):\n",
    "    \n",
    "    dataset = Patcher(img, lbl, transform, patch_size) # without noise\n",
    "        \n",
    "    loader = DataLoader(dataset=dataset,\n",
    "                        batch_size=batch_size,\n",
    "                        shuffle=False)\n",
    "    \n",
    "    outputs, coords = final_validate(model, \n",
    "                                     criterion,\n",
    "                                     loader)\n",
    "\n",
    "    result_image = np.zeros_like(lbl)\n",
    "    \n",
    "    result_image = fill_image(coord=coords, \n",
    "                              dataset=dataset, \n",
    "                              zero_image=result_image, \n",
    "                              outputs=outputs)\n",
    "\n",
    "\n",
    "    result_image[result_image > 1] = 1\n",
    "    \n",
    "    return result_image"
   ]
  },
  {
   "cell_type": "markdown",
   "id": "641ef9f6",
   "metadata": {},
   "source": [
    "Так как мы только оцениваем модели, нам не нужны аугментации"
   ]
  },
  {
   "cell_type": "code",
   "execution_count": null,
   "id": "f404c8a0",
   "metadata": {},
   "outputs": [],
   "source": [
    "valid_transform = transforms.Compose([\n",
    "    transforms.ToTensor()])"
   ]
  },
  {
   "cell_type": "markdown",
   "id": "4f141d23",
   "metadata": {},
   "source": [
    "### Simple CNN"
   ]
  },
  {
   "cell_type": "code",
   "execution_count": null,
   "id": "3fe8eb25",
   "metadata": {},
   "outputs": [],
   "source": [
    "class CNN_s1(nn.Module):\n",
    "    def __init__(self, patch_size: int = 5):\n",
    "        super().__init__()\n",
    "        self.conv_stack = nn.Sequential(\n",
    "            nn.Conv2d(2, 32, 3, stride=1, padding=1), # shape: [32,patch_size,patch_size]\n",
    "            nn.ReLU(),\n",
    "            nn.Conv2d(32, 64, 3, stride=1, padding=1), # shape: [64,patch_size,patch_size] \n",
    "            nn.ReLU(),\n",
    "            nn.Conv2d(64, 128, 3, stride=1, padding=1), # shape: [128,patch_size,patch_size] \n",
    "            nn.ReLU(),\n",
    "            nn.Flatten(),\n",
    "            nn.Linear(128*patch_size*patch_size, 1000),\n",
    "            nn.Dropout(0.25),\n",
    "            nn.ReLU(), \n",
    "            nn.Linear(1000, 1),\n",
    "            nn.Sigmoid()\n",
    "        )\n",
    "\n",
    "    def forward(self, x):\n",
    "        scores = self.conv_stack(x)\n",
    "        return scores"
   ]
  },
  {
   "cell_type": "code",
   "execution_count": null,
   "id": "7c08ae76",
   "metadata": {},
   "outputs": [],
   "source": [
    "patch_size = 15\n",
    "batch_size = 2048\n",
    "\n",
    "model_cnn = torch.load('/content/model_cnn.pt')\n",
    "model_cnn.eval()\n",
    "model_cnn = model_cnn.to(device)\n",
    "criterion = nn.BCELoss()"
   ]
  },
  {
   "cell_type": "code",
   "execution_count": null,
   "id": "3e256042",
   "metadata": {},
   "outputs": [],
   "source": [
    "result_image = generate_result_image(patch_size=patch_size, \n",
    "                                     img=image_norm, lbl=mask_array, \n",
    "                                     transform=valid_transform, batch_size=batch_size, \n",
    "                                     model=model_cnn, criterion=criterion)"
   ]
  },
  {
   "cell_type": "markdown",
   "id": "6a11abf0",
   "metadata": {},
   "source": [
    "__Метрики__"
   ]
  },
  {
   "cell_type": "code",
   "execution_count": null,
   "id": "a4c5cf93",
   "metadata": {},
   "outputs": [],
   "source": [
    "print('Метрики для всего изображения')\n",
    "print()\n",
    "print_metrics(mask_array, result_image)"
   ]
  },
  {
   "cell_type": "code",
   "execution_count": null,
   "id": "9b3570fd",
   "metadata": {},
   "outputs": [],
   "source": [
    "print('Метрики для тестовой части')\n",
    "print()\n",
    "print_metrics(mask_array[bound_test:], result_image[bound_test:])"
   ]
  },
  {
   "cell_type": "markdown",
   "id": "248df6dc",
   "metadata": {},
   "source": [
    "__Оригинальная и смоделированная маски__"
   ]
  },
  {
   "cell_type": "code",
   "execution_count": null,
   "id": "749203e7",
   "metadata": {},
   "outputs": [],
   "source": [
    "fig, axis = plt.subplots(1, 2, figsize=(20, 30))\n",
    "axis[0].imshow(mask_array, cmap='Greys_r')\n",
    "axis[1].imshow(result_image, cmap='Greys_r')\n",
    "axis[0].title.set_text('Original')\n",
    "axis[1].title.set_text('Parody')\n",
    "for a in axis:\n",
    "    a.axis('off') "
   ]
  },
  {
   "cell_type": "markdown",
   "id": "137d1738",
   "metadata": {},
   "source": [
    "Фрагмент"
   ]
  },
  {
   "cell_type": "code",
   "execution_count": null,
   "id": "a4f8b0a3",
   "metadata": {},
   "outputs": [],
   "source": [
    "start_x = 3500\n",
    "step_x = 1000\n",
    "start_y = 100\n",
    "step_y = 4900\n",
    "\n",
    "figure1 = mask_array[start_x:start_x + step_x, start_y:start_y + step_y]\n",
    "figure2 = result_image[start_x:start_x + step_x, start_y:start_y + step_y]\n",
    "\n",
    "fig, axis = plt.subplots(2, 1, figsize=(15, 7))\n",
    "axis[0].imshow(figure1, cmap='Greys_r')\n",
    "axis[1].imshow(figure2, cmap='Greys_r')\n",
    "axis[0].title.set_text('Original')\n",
    "axis[1].title.set_text('Parody')\n",
    "for a in axis:\n",
    "    a.axis('off') "
   ]
  },
  {
   "cell_type": "markdown",
   "id": "855d239c",
   "metadata": {},
   "source": [
    "__Разница между оригинальной маской и смоделированной__"
   ]
  },
  {
   "cell_type": "code",
   "execution_count": null,
   "id": "0014494f",
   "metadata": {},
   "outputs": [],
   "source": [
    "diff_mask = mask_array - result_image\n",
    "\n",
    "fig = plt.figure(figsize=(10, 15))\n",
    "plt.imshow(diff_mask, cmap='bwr')\n",
    "plt.axis('off')\n",
    "plt.show()"
   ]
  },
  {
   "cell_type": "markdown",
   "id": "633b8e11",
   "metadata": {},
   "source": [
    "Белый - нет разницы\n",
    "\n",
    "Красный - необнаруженный лес\n",
    "\n",
    "Синий - лишний лес"
   ]
  },
  {
   "cell_type": "markdown",
   "id": "4bef8975",
   "metadata": {},
   "source": [
    "__Экспорт результата__"
   ]
  },
  {
   "cell_type": "code",
   "execution_count": null,
   "id": "ec63a2cc",
   "metadata": {},
   "outputs": [],
   "source": [
    "out_raster = \"/content/result_cnn.tif\"\n",
    "\n",
    "# экспорт результата\n",
    "createGeotiff(out_raster, result_image, geo_transform, projection)"
   ]
  },
  {
   "cell_type": "markdown",
   "id": "7118c238",
   "metadata": {},
   "source": [
    "### ResNet"
   ]
  },
  {
   "cell_type": "code",
   "execution_count": null,
   "id": "49f79aeb",
   "metadata": {},
   "outputs": [],
   "source": [
    "class CustomResnet(nn.Module):\n",
    "    def __init__(self, class_nums = 1, patch_size=5):\n",
    "        super(CustomResnet, self).__init__()\n",
    "        self.activation = nn.ReLU()\n",
    "\n",
    "        resnet_module = nn.Sequential(\n",
    "            nn.Conv2d(2, 64, 3, stride=1, padding=1),\n",
    "            self.activation,\n",
    "            BasicBlock(64, 64, 1),\n",
    "            BasicBlock(64, 128, 2),\n",
    "            BasicBlock(128, 128, 1),\n",
    "            nn.AdaptiveAvgPool2d((1,1))\n",
    "        )\n",
    "\n",
    "        dummy_imput = torch.rand(1, 2, patch_size, patch_size)\n",
    "        out = resnet_module(dummy_imput)\n",
    "\n",
    "        self.resnet = resnet_module\n",
    "        self.fc = nn.Sequential(\n",
    "            nn.Linear(out.shape[1], class_nums),\n",
    "            nn.Sigmoid()\n",
    "        )\n",
    "\n",
    "    def forward(self, x):\n",
    "        x = self.resnet(x)\n",
    "        x = nn.Flatten()(x)\n",
    "        scores = self.fc(x)\n",
    "        return scores\n",
    "\n",
    "class BasicBlock(nn.Module):\n",
    "    def __init__(self, conv_in, conv_out, stride_first, activation = nn.ReLU):\n",
    "        super(BasicBlock, self).__init__()\n",
    "        self.activation = activation()\n",
    "\n",
    "        if stride_first == 2:\n",
    "            downs_module = nn.Sequential(\n",
    "            nn.Conv2d(conv_in, conv_out, 1, stride=2),\n",
    "            nn.BatchNorm2d(conv_out)\n",
    "            )\n",
    "            self.downsample = downs_module\n",
    "        else:\n",
    "            self.downsample = None\n",
    "\n",
    "        bb_module = nn.Sequential(\n",
    "            nn.Conv2d(conv_in, conv_out, 3, stride=stride_first, padding=1),\n",
    "            nn.BatchNorm2d(conv_out),\n",
    "            self.activation,\n",
    "            nn.Conv2d(conv_out, conv_out, 3, stride=1, padding=1),\n",
    "            nn.BatchNorm2d(conv_out)\n",
    "        )\n",
    "        self.bb = bb_module\n",
    "\n",
    "    def forward(self, x):\n",
    "        x_identity = x\n",
    "        out = self.bb(x)\n",
    "\n",
    "        if self.downsample is not None: \n",
    "            x_identity = self.downsample(x) \n",
    "\n",
    "        out += x_identity\n",
    "        out = self.activation(out)\n",
    "\n",
    "        return out"
   ]
  },
  {
   "cell_type": "code",
   "execution_count": null,
   "id": "008c743b",
   "metadata": {},
   "outputs": [],
   "source": [
    "patch_size = 15\n",
    "batch_size = 2048\n",
    "\n",
    "model_resnet = torch.load('/content/model_resnet.pt')\n",
    "model_resnet.eval()\n",
    "model_resnet = model_resnet.to(device)\n",
    "criterion = nn.BCELoss()"
   ]
  },
  {
   "cell_type": "code",
   "execution_count": null,
   "id": "7aeb9726",
   "metadata": {},
   "outputs": [],
   "source": [
    "result_image = generate_result_image(patch_size=patch_size, \n",
    "                                     img=image_norm, lbl=mask_array, \n",
    "                                     transform=valid_transform, batch_size=batch_size, \n",
    "                                     model=model_resnet, criterion=criterion)"
   ]
  },
  {
   "cell_type": "markdown",
   "id": "837905dd",
   "metadata": {},
   "source": [
    "__Метрики__"
   ]
  },
  {
   "cell_type": "code",
   "execution_count": null,
   "id": "cd029e47",
   "metadata": {},
   "outputs": [],
   "source": [
    "print('Метрики для всего изображения')\n",
    "print()\n",
    "print_metrics(mask_array, result_image)"
   ]
  },
  {
   "cell_type": "code",
   "execution_count": null,
   "id": "993af1e2",
   "metadata": {},
   "outputs": [],
   "source": [
    "print('Метрики для тестовой части')\n",
    "print()\n",
    "print_metrics(mask_array[bound_test:], result_image[bound_test:])"
   ]
  },
  {
   "cell_type": "markdown",
   "id": "8aa17a8e",
   "metadata": {},
   "source": [
    "__Оригинальная и смоделированная маски__"
   ]
  },
  {
   "cell_type": "code",
   "execution_count": null,
   "id": "9d6fcc48",
   "metadata": {},
   "outputs": [],
   "source": [
    "fig, axis = plt.subplots(1, 2, figsize=(20, 30))\n",
    "axis[0].imshow(mask_array, cmap='Greys_r')\n",
    "axis[1].imshow(result_image, cmap='Greys_r')\n",
    "axis[0].title.set_text('Original')\n",
    "axis[1].title.set_text('Parody')\n",
    "for a in axis:\n",
    "    a.axis('off') "
   ]
  },
  {
   "cell_type": "markdown",
   "id": "3dc08072",
   "metadata": {},
   "source": [
    "Фрагмент"
   ]
  },
  {
   "cell_type": "code",
   "execution_count": null,
   "id": "7596a8b0",
   "metadata": {},
   "outputs": [],
   "source": [
    "start_x = 3500\n",
    "step_x = 1000\n",
    "start_y = 100\n",
    "step_y = 4900\n",
    "\n",
    "figure1 = mask_array[start_x:start_x + step_x, start_y:start_y + step_y]\n",
    "figure2 = result_image[start_x:start_x + step_x, start_y:start_y + step_y]\n",
    "\n",
    "fig, axis = plt.subplots(2, 1, figsize=(15, 7))\n",
    "axis[0].imshow(figure1, cmap='Greys_r')\n",
    "axis[1].imshow(figure2, cmap='Greys_r')\n",
    "axis[0].title.set_text('Original')\n",
    "axis[1].title.set_text('Parody')\n",
    "for a in axis:\n",
    "    a.axis('off') "
   ]
  },
  {
   "cell_type": "markdown",
   "id": "89f70bd4",
   "metadata": {},
   "source": [
    "__Разница между оригинальной маской и смоделированной__"
   ]
  },
  {
   "cell_type": "code",
   "execution_count": null,
   "id": "06bb7a06",
   "metadata": {},
   "outputs": [],
   "source": [
    "diff_mask = mask_array - result_image\n",
    "\n",
    "fig = plt.figure(figsize=(10, 15))\n",
    "plt.imshow(diff_mask, cmap='bwr')\n",
    "plt.axis('off')\n",
    "plt.show()"
   ]
  },
  {
   "cell_type": "markdown",
   "id": "005c607c",
   "metadata": {},
   "source": [
    "Белый - нет разницы\n",
    "\n",
    "Красный - необнаруженный лес\n",
    "\n",
    "Синий - лишний лес"
   ]
  },
  {
   "cell_type": "markdown",
   "id": "fd02ec8d",
   "metadata": {},
   "source": [
    "__Экспорт результата__"
   ]
  },
  {
   "cell_type": "code",
   "execution_count": null,
   "id": "8d7781a1",
   "metadata": {},
   "outputs": [],
   "source": [
    "out_raster = \"/content/result_resnet.tif\"\n",
    "\n",
    "# экспорт результата\n",
    "createGeotiff(out_raster, result_image, geo_transform, projection)"
   ]
  },
  {
   "cell_type": "markdown",
   "id": "0ca2cd50",
   "metadata": {},
   "source": [
    "## Сверточная сеть U-Net для сегментации"
   ]
  },
  {
   "cell_type": "code",
   "execution_count": null,
   "id": "553c9678",
   "metadata": {},
   "outputs": [],
   "source": [
    "# new patches\n",
    "class Patcher_UNet(Dataset):\n",
    "    def __init__(self, image, mask, transform, patch_size=256, train_part=True):\n",
    "        super().__init__()\n",
    "              \n",
    "        self.image = image\n",
    "        self.mask = mask\n",
    "        self.transform = transform\n",
    "        self.patch_size = patch_size\n",
    "        self.im_h, self.im_w = image.shape[0], image.shape[1]\n",
    "        self.train_part = train_part\n",
    "    \n",
    "        coord_list = list()\n",
    "        for corner_x in trange(0, self.im_w // self.patch_size * self.patch_size, self.patch_size): \n",
    "            for corner_y in range(0,  self.im_h // self.patch_size * self.patch_size, self.patch_size):\n",
    "                if (self.image[corner_y:corner_y + self.patch_size,\n",
    "                               corner_x:corner_x + self.patch_size] != 0).all():\n",
    "                    coord_list.append([corner_y, corner_x])\n",
    "        if not train_part:\n",
    "            corner_x = self.im_w - self.patch_size\n",
    "            for corner_y in range(0,  self.im_h // self.patch_size * self.patch_size, self.patch_size):\n",
    "                coord_list.append([corner_y, corner_x])\n",
    "            \n",
    "        self.coords = np.array(coord_list)\n",
    "        self.size = len(self.coords)\n",
    "\n",
    "    def __getitem__(self, indx):\n",
    "        corner_x = self.coords[indx, 1]\n",
    "        corner_y = self.coords[indx, 0]\n",
    "        \n",
    "        patch = self.image[corner_y:corner_y + self.patch_size, \n",
    "                           corner_x:corner_x + self.patch_size]\n",
    "        label = self.mask[corner_y:corner_y + self.patch_size, \n",
    "                           corner_x:corner_x + self.patch_size]\n",
    "        \n",
    "        if self.train_part:\n",
    "            trans = transforms.Compose([transforms.ToTensor()])\n",
    "            concat = torch.cat((trans(patch), trans(label)))\n",
    "            concat_transformed = self.transform(concat)\n",
    "            patch, label = torch.split(concat_transformed, 2)\n",
    "        else:\n",
    "            patch, label = self.transform(patch), self.transform(label)\n",
    "        return patch, label, indx # dataset.coords[indx]\n",
    "    \n",
    "    def __len__(self):\n",
    "        return self.size"
   ]
  },
  {
   "cell_type": "code",
   "execution_count": null,
   "id": "4ff14c8b",
   "metadata": {},
   "outputs": [],
   "source": [
    "# заполнение болванки изображения ответами\n",
    "def fill_image_Unet(coord, dataset, zero_image, outputs, patch_size):\n",
    "    for indx in trange(len(coord)):\n",
    "        coord_x, coord_y = dataset.coords[coord[indx]]\n",
    "        zero_image[coord_x:coord_x + patch_size, coord_y:coord_y + patch_size] = outputs[indx]\n",
    "        \n",
    "    return zero_image"
   ]
  },
  {
   "cell_type": "code",
   "execution_count": null,
   "id": "cbe354fc",
   "metadata": {},
   "outputs": [],
   "source": [
    "def generate_result_image_unet(patch_size, \n",
    "                          img, lbl, \n",
    "                          transform, batch_size, \n",
    "                          model, criterion):\n",
    "    \n",
    "    dataset = Patcher_UNet(img, lbl, transform, patch_size, train_part = False) # without noise\n",
    "        \n",
    "    loader = DataLoader(dataset=dataset,\n",
    "                        batch_size=batch_size,\n",
    "                        shuffle=False)\n",
    "    model.eval()\n",
    "    outputs = []\n",
    "    coords = []\n",
    "    with torch.no_grad():\n",
    "        for batch in loader:\n",
    "            imgs, labels, coord = batch\n",
    "            imgs, labels = imgs.to(device), labels.to(device)\n",
    "            y_pred = model(imgs)\n",
    "            y_pred = y_pred.squeeze().cpu()\n",
    "            y_pred = torch.where(y_pred > 0.5, 1, 0)\n",
    "            outputs.append(y_pred.numpy())\n",
    "            coords.append(coord)\n",
    "    outputs = np.concatenate(outputs, axis=0)\n",
    "    coords = np.concatenate(coords, axis=0)\n",
    "        \n",
    "\n",
    "    result_image = np.zeros_like(lbl)\n",
    "    \n",
    "    result_image = fill_image_Unet(coord=coords, \n",
    "                                   dataset=dataset, \n",
    "                                   zero_image=result_image, \n",
    "                                   outputs=outputs,\n",
    "                                   patch_size=patch_size)\n",
    "\n",
    "\n",
    "    result_image[result_image > 1] = 1\n",
    "    \n",
    "    return result_image"
   ]
  },
  {
   "cell_type": "code",
   "execution_count": null,
   "id": "901fe4d6",
   "metadata": {},
   "outputs": [],
   "source": [
    "# loss\n",
    "class BinaryDiceLoss(nn.Module):\n",
    "    def __init__(self, p=2, epsilon=1e-6):\n",
    "        super().__init__()\n",
    "        self.p = p  # pow degree\n",
    "        self.epsilon = epsilon\n",
    "\n",
    "    def forward(self, predict, target):\n",
    "        predict = predict.flatten(1)\n",
    "        target = target.flatten(1)\n",
    "\n",
    "        num = torch.sum(torch.mul(predict, target), dim=1) + self.epsilon\n",
    "        den = torch.sum(predict.pow(self.p) + target.pow(self.p), dim=1) + self.epsilon\n",
    "        loss = 1 - 2 * num / den\n",
    "\n",
    "        return loss.mean()  # over batch"
   ]
  },
  {
   "cell_type": "code",
   "execution_count": null,
   "id": "b610ea2a",
   "metadata": {},
   "outputs": [],
   "source": [
    "valid_transform = transforms.Compose([\n",
    "    transforms.ToTensor()])"
   ]
  },
  {
   "cell_type": "code",
   "execution_count": null,
   "id": "de12f96e",
   "metadata": {},
   "outputs": [],
   "source": [
    "patch_size = 256\n",
    "batch_size = 4"
   ]
  },
  {
   "cell_type": "code",
   "execution_count": null,
   "id": "e1dbcc7a",
   "metadata": {},
   "outputs": [],
   "source": [
    "model_unet = torch.hub.load('mateuszbuda/brain-segmentation-pytorch', 'unet',\n",
    "                       in_channels=2, out_channels=1, init_features=32, pretrained=False)\n",
    "model_unet = torch.load(\"/model_unet.pkl\")\n",
    "model_unet.eval()\n",
    "model_unet = model_unet.to(device)\n",
    "criterion = BinaryDiceLoss()"
   ]
  },
  {
   "cell_type": "code",
   "execution_count": null,
   "id": "2a057e64",
   "metadata": {},
   "outputs": [],
   "source": [
    "result_image = generate_result_image_unet(patch_size=patch_size, \n",
    "                                         img=image_norm, lbl=mask_array, \n",
    "                                         transform=valid_transform, batch_size=batch_size, \n",
    "                                         model=model_unet, criterion=criterion)"
   ]
  },
  {
   "cell_type": "markdown",
   "id": "76062884",
   "metadata": {},
   "source": [
    "__Метрики__"
   ]
  },
  {
   "cell_type": "code",
   "execution_count": null,
   "id": "384ea5b8",
   "metadata": {},
   "outputs": [],
   "source": [
    "print('Метрики для всего изображения')\n",
    "print()\n",
    "print_metrics(mask_array, result_image)"
   ]
  },
  {
   "cell_type": "code",
   "execution_count": null,
   "id": "5aabcec1",
   "metadata": {},
   "outputs": [],
   "source": [
    "print('Метрики для тестовой части')\n",
    "print()\n",
    "print_metrics(mask_array[bound_test:], result_image[bound_test:])"
   ]
  },
  {
   "cell_type": "markdown",
   "id": "86ca1854",
   "metadata": {},
   "source": [
    "__Оригинальная и смоделированная маски__"
   ]
  },
  {
   "cell_type": "code",
   "execution_count": null,
   "id": "8b53ae3f",
   "metadata": {},
   "outputs": [],
   "source": [
    "fig, axis = plt.subplots(1, 2, figsize=(20, 30))\n",
    "axis[0].imshow(mask_array, cmap='Greys_r')\n",
    "axis[1].imshow(result_image, cmap='Greys_r')\n",
    "axis[0].title.set_text('Original')\n",
    "axis[1].title.set_text('Parody')\n",
    "for a in axis:\n",
    "    a.axis('off')"
   ]
  },
  {
   "cell_type": "markdown",
   "id": "07d56b6e",
   "metadata": {},
   "source": [
    "Фрагмент"
   ]
  },
  {
   "cell_type": "code",
   "execution_count": null,
   "id": "ac42b33d",
   "metadata": {},
   "outputs": [],
   "source": [
    "start_x = 3500\n",
    "step_x = 1000\n",
    "start_y = 100\n",
    "step_y = 4900\n",
    "\n",
    "figure1 = mask_array[start_x:start_x + step_x, start_y:start_y + step_y]\n",
    "figure2 = result_image[start_x:start_x + step_x, start_y:start_y + step_y]\n",
    "\n",
    "fig, axis = plt.subplots(2, 1, figsize=(15, 7))\n",
    "axis[0].imshow(figure1, cmap='Greys_r')\n",
    "axis[1].imshow(figure2, cmap='Greys_r')\n",
    "axis[0].title.set_text('Original')\n",
    "axis[1].title.set_text('Parody')\n",
    "for a in axis:\n",
    "    a.axis('off') "
   ]
  },
  {
   "cell_type": "markdown",
   "id": "7ac49c32",
   "metadata": {},
   "source": [
    "__Разница между оригинальной маской и смоделированной__"
   ]
  },
  {
   "cell_type": "code",
   "execution_count": null,
   "id": "8db39477",
   "metadata": {},
   "outputs": [],
   "source": [
    "diff_mask = mask_array - result_image\n",
    "\n",
    "fig = plt.figure(figsize=(10, 15))\n",
    "plt.imshow(diff_mask, cmap='bwr')\n",
    "plt.axis('off')\n",
    "plt.show()"
   ]
  },
  {
   "cell_type": "markdown",
   "id": "dfa45224",
   "metadata": {},
   "source": [
    "Белый - нет разницы\n",
    "\n",
    "Красный - необнаруженный лес\n",
    "\n",
    "Синий - лишний лес"
   ]
  },
  {
   "cell_type": "markdown",
   "id": "1349b4bc",
   "metadata": {},
   "source": [
    "__Экспорт результата__"
   ]
  },
  {
   "cell_type": "code",
   "execution_count": null,
   "id": "9b3d5974",
   "metadata": {},
   "outputs": [],
   "source": [
    "out_raster = \"/content/result_unet.tif\"\n",
    "\n",
    "# экспорт результата\n",
    "createGeotiff(out_raster, result_image, geo_transform, projection)"
   ]
  },
  {
   "cell_type": "markdown",
   "id": "de924d00",
   "metadata": {},
   "source": [
    "## Random Forest"
   ]
  },
  {
   "cell_type": "code",
   "execution_count": null,
   "id": "4c6ec630",
   "metadata": {},
   "outputs": [],
   "source": [
    "rf = joblib.load(\"/content/random_forest.joblib\")"
   ]
  },
  {
   "cell_type": "code",
   "execution_count": null,
   "id": "5012583e",
   "metadata": {},
   "outputs": [],
   "source": [
    "full_image_rf = np.reshape(image_norm, [image_norm.shape[0] * image_norm.shape[1], image_norm.shape[2]])\n",
    "full_labels_rf = mask_array.flatten()\n",
    "\n",
    "result_image = rf.predict(full_image_rf)\n",
    "result_image = np.reshape(result_image, (image_norm.shape[0], image_norm.shape[1]))\n",
    "result_image.shape"
   ]
  },
  {
   "cell_type": "markdown",
   "id": "3c4302fa",
   "metadata": {},
   "source": [
    "__Метрики__"
   ]
  },
  {
   "cell_type": "code",
   "execution_count": null,
   "id": "6c9e4e90",
   "metadata": {},
   "outputs": [],
   "source": [
    "print('Метрики для всего изображения')\n",
    "print()\n",
    "print_metrics(mask_array, result_image)"
   ]
  },
  {
   "cell_type": "code",
   "execution_count": null,
   "id": "ef2b3967",
   "metadata": {},
   "outputs": [],
   "source": [
    "print('Метрики для тестовой части')\n",
    "print()\n",
    "print_metrics(mask_array[bound_test:], result_image[bound_test:])"
   ]
  },
  {
   "cell_type": "markdown",
   "id": "6d3b9dba",
   "metadata": {},
   "source": [
    "__Оригинальная и смоделированная маски__"
   ]
  },
  {
   "cell_type": "code",
   "execution_count": null,
   "id": "afdcc7a2",
   "metadata": {},
   "outputs": [],
   "source": [
    "fig, axis = plt.subplots(1, 2, figsize=(20, 30))\n",
    "axis[0].imshow(mask_array, cmap='Greys_r')\n",
    "axis[1].imshow(result_image, cmap='Greys_r')\n",
    "axis[0].title.set_text('Original')\n",
    "axis[1].title.set_text('Parody')\n",
    "for a in axis:\n",
    "    a.axis('off')"
   ]
  },
  {
   "cell_type": "markdown",
   "id": "7ceef1ee",
   "metadata": {},
   "source": [
    "Фрагмент"
   ]
  },
  {
   "cell_type": "code",
   "execution_count": null,
   "id": "db2cc145",
   "metadata": {},
   "outputs": [],
   "source": [
    "start_x = 3500\n",
    "step_x = 1000\n",
    "start_y = 100\n",
    "step_y = 4900\n",
    "\n",
    "figure1 = mask_array[start_x:start_x + step_x, start_y:start_y + step_y]\n",
    "figure2 = result_image[start_x:start_x + step_x, start_y:start_y + step_y]\n",
    "\n",
    "fig, axis = plt.subplots(2, 1, figsize=(15, 7))\n",
    "axis[0].imshow(figure1, cmap='Greys_r')\n",
    "axis[1].imshow(figure2, cmap='Greys_r')\n",
    "axis[0].title.set_text('Original')\n",
    "axis[1].title.set_text('Parody')\n",
    "for a in axis:\n",
    "    a.axis('off') "
   ]
  },
  {
   "cell_type": "markdown",
   "id": "5e578691",
   "metadata": {},
   "source": [
    "__Разница между оригинальной маской и смоделированной__"
   ]
  },
  {
   "cell_type": "code",
   "execution_count": null,
   "id": "a6b4848c",
   "metadata": {},
   "outputs": [],
   "source": [
    "diff_mask = mask_array - result_image\n",
    "\n",
    "fig = plt.figure(figsize=(10, 15))\n",
    "plt.imshow(diff_mask, cmap='bwr')\n",
    "plt.axis('off')\n",
    "plt.show()"
   ]
  },
  {
   "cell_type": "markdown",
   "id": "82c9ba48",
   "metadata": {},
   "source": [
    "Белый - нет разницы\n",
    "\n",
    "Красный - необнаруженный лес\n",
    "\n",
    "Синий - лишний лес"
   ]
  },
  {
   "cell_type": "markdown",
   "id": "b90f5a39",
   "metadata": {},
   "source": [
    "__Экспорт результата__"
   ]
  },
  {
   "cell_type": "code",
   "execution_count": null,
   "id": "0b6a3ca6",
   "metadata": {},
   "outputs": [],
   "source": [
    "out_raster = \"/content/result_rf.tif\"\n",
    "\n",
    "# экспорт результата\n",
    "createGeotiff(out_raster, result_image, geo_transform, projection)"
   ]
  }
 ],
 "metadata": {
  "kernelspec": {
   "display_name": "envpytorch",
   "language": "python",
   "name": "envpytorch"
  },
  "language_info": {
   "codemirror_mode": {
    "name": "ipython",
    "version": 3
   },
   "file_extension": ".py",
   "mimetype": "text/x-python",
   "name": "python",
   "nbconvert_exporter": "python",
   "pygments_lexer": "ipython3",
   "version": "3.10.4"
  }
 },
 "nbformat": 4,
 "nbformat_minor": 5
}
